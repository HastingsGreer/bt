{
 "cells": [
  {
   "cell_type": "code",
   "execution_count": 1,
   "metadata": {},
   "outputs": [],
   "source": [
    "board = [\n",
    "    [1, 2, 2, 3],\n",
    "    [1, 2, 2, 3],\n",
    "    [4, 5, 5, 6],\n",
    "    [4, 7, 8, 6],\n",
    "    [9, 0, 0, 10]\n",
    "]"
   ]
  },
  {
   "cell_type": "code",
   "execution_count": 5,
   "metadata": {},
   "outputs": [],
   "source": [
    "directions = (\n",
    "    (-1, 0), \n",
    "    (1, 0),\n",
    "    (0, -1),\n",
    "    (0, 1)\n",
    ")\n",
    "\n",
    "inverse = [directions[i] for i in [1, 0, 3, 2]]"
   ]
  },
  {
   "cell_type": "code",
   "execution_count": 4,
   "metadata": {},
   "outputs": [
    {
     "data": {
      "image/png": "[encoded data removed]",
      "text/plain": [
       "<Figure size 432x288 with 1 Axes>"
      ]
     },
     "metadata": {
      "needs_background": "light"
     },
     "output_type": "display_data"
    }
   ],
   "source": [
    "import matplotlib.pyplot as plt\n",
    "import numpy as np\n",
    "\n",
    "plt.imshow(board, cmap='jet', interpolation='none')\n",
    "plt.show()"
   ]
  },
  {
   "cell_type": "code",
   "execution_count": 14,
   "metadata": {},
   "outputs": [],
   "source": [
    "def inbounds(i, j):\n",
    "    return 0 <= i < 5 and 0 <= j < 4\n",
    "def checkmove(direction, piece):\n",
    "    global board\n",
    "    move = directions[direction]\n",
    "    for i in range(5):\n",
    "        for j in range(4):\n",
    "            if board[i][j] == piece:\n",
    "                if not(\n",
    "                    inbounds(i + move[0], j + move[1]) \n",
    "                    and board[i + move[0]][j + move[1]] == 0):\n",
    "                    return False\n",
    "    return True\n",
    "\n",
    "def winning():\n",
    "    return board[3][1] == 2 and board[3][2] == 2 and board[4]"
   ]
  },
  {
   "cell_type": "code",
   "execution_count": 15,
   "metadata": {},
   "outputs": [
    {
     "name": "stdout",
     "output_type": "stream",
     "text": [
      "[[ 1  2  2  3]\n",
      " [ 1  2  2  3]\n",
      " [ 4  5  5  6]\n",
      " [ 4  7  8  6]\n",
      " [ 9  0  0 10]]\n"
     ]
    }
   ],
   "source": [
    "print(np.matrix(board))"
   ]
  },
  {
   "cell_type": "code",
   "execution_count": 19,
   "metadata": {},
   "outputs": [
    {
     "data": {
      "text/plain": [
       "False"
      ]
     },
     "execution_count": 19,
     "metadata": {},
     "output_type": "execute_result"
    }
   ],
   "source": [
    "checkmove(3, 10)"
   ]
  },
  {
   "cell_type": "code",
   "execution_count": null,
   "metadata": {},
   "outputs": [],
   "source": []
  }
 ],
 "metadata": {
  "kernelspec": {
   "display_name": "Python 3",
   "language": "python",
   "name": "python3"
  },
  "language_info": {
   "codemirror_mode": {
    "name": "ipython",
    "version": 3
   },
   "file_extension": ".py",
   "mimetype": "text/x-python",
   "name": "python",
   "nbconvert_exporter": "python",
   "pygments_lexer": "ipython3",
   "version": "3.7.3"
  }
 },
 "nbformat": 4,
 "nbformat_minor": 2
}
